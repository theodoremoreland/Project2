{
 "cells": [
  {
   "cell_type": "code",
   "execution_count": 1,
   "metadata": {},
   "outputs": [],
   "source": [
    "from sqlalchemy import create_engine\n",
    "import pandas as pd\n",
    "import os.path as os\n",
    "from db_access import db_user, db_pass, db_address"
   ]
  },
  {
   "cell_type": "code",
   "execution_count": 2,
   "metadata": {},
   "outputs": [],
   "source": [
    "inspection_path = os.join(\".\",\"restaurant_inspections_clean.csv\")\n",
    "inspection_df = pd.read_csv(inspection_path, encoding=\"latin-1\")\n",
    "\n",
    "yelp_restaurant_path = os.join(\".\",\"yelp_la_restaurants.csv\")\n",
    "yelp_restaurant_df = pd.read_csv(yelp_restaurant_path, encoding=\"latin-1\")\n",
    "\n",
    "yelp_review_path = os.join(\".\",\"yelp_reviews.csv\")\n",
    "yelp_review_df = pd.read_csv(yelp_review_path, encoding=\"latin-1\")\n",
    "\n",
    "column_names = {\"Restaurant ID\":\"restaurant_id\", \"Restaurant Name\":\"restaurant_name\", \n",
    "                \"Restaurant Address\":\"restaurant_address\", \"Restaurant City\":\"restaurant_city\", \n",
    "                \"Restaurant State\":\"restaurant_state\", \"Restaurant ZIP\": \"restaurant_zip\", \n",
    "                \"Health Inspection Score\":\"health_inspection_score\", \"Health Inspection Grade\":\"health_inspection_grade\"}\n",
    "inspection_df.rename(columns=column_names, inplace=True)\n",
    "# inspection_df.set_index(\"restaurant_id\", drop=True, inplace=True, verify_integrity=True)\n",
    "inspection_df.drop(axis=1, labels=[\"restaurant_id\"], inplace=True)\n",
    "\n",
    "yelp_restaurant_df.drop(axis=1, labels=[\"Unnamed: 0\"], inplace=True)\n",
    "column_names = {\"id\":\"yelp_id\", \"name\":\"yelp_rest_name\", \"overall_rating\":\"yelp_rating\", \n",
    "                \"review_count\":\"yelp_review_count\", \"address\":\"yelp_rest_address\", \n",
    "                \"city\":\"yelp_rest_city\", \"state\":\"yelp_rest_state\", \"zip\": \"yelp_rest_zip\"}\n",
    "yelp_restaurant_df.rename(columns=column_names, inplace=True)\n",
    "# yelp_restaurant_df.set_index(\"yelp_id\", drop=True, inplace=True, verify_integrity=True)\n",
    "\n",
    "yelp_review_df.drop(axis=1, labels=\"Unnamed: 0\", inplace=True)\n",
    "yelp_review_df.drop(axis=1, labels=\"time_created\", inplace=True)\n",
    "column_names = {\"id\":\"yelp_id\", \"name\":\"yelp_rest_name\", \n",
    "                \"rating\":\"yelp_rating\", \"text\":\"yelp_review_text\"}\n",
    "yelp_review_df.rename(columns=column_names, inplace=True)\n",
    "\n",
    "# inspection_df.iloc[0]"
   ]
  },
  {
   "cell_type": "code",
   "execution_count": 3,
   "metadata": {},
   "outputs": [],
   "source": [
    "yelp_restaurant_df.dropna(subset=[\"yelp_rest_address\"], inplace=True)"
   ]
  },
  {
   "cell_type": "code",
   "execution_count": 4,
   "metadata": {},
   "outputs": [
    {
     "data": {
      "text/plain": [
       "['inspection', 'yelp_restaurant_data', 'yelp_review_data']"
      ]
     },
     "execution_count": 4,
     "metadata": {},
     "output_type": "execute_result"
    }
   ],
   "source": [
    "connection_string = f\"{db_user}:{db_pass}@{db_address}/restaurant_db\"\n",
    "engine = create_engine(f\"mysql://{connection_string}\")\n",
    "engine.table_names()"
   ]
  },
  {
   "cell_type": "code",
   "execution_count": 5,
   "metadata": {},
   "outputs": [],
   "source": [
    "inspection_df.to_sql(name='inspection', con=engine, if_exists='replace', index=True)\n",
    "yelp_restaurant_df.to_sql(name='yelp_restaurant_data', con=engine, if_exists='replace', index=True)\n",
    "yelp_review_df.to_sql(name='yelp_review_data', con=engine, if_exists='replace', index=True)"
   ]
  }
 ],
 "metadata": {
  "kernelspec": {
   "display_name": "Python 3",
   "language": "python",
   "name": "python3"
  },
  "language_info": {
   "codemirror_mode": {
    "name": "ipython",
    "version": 3
   },
   "file_extension": ".py",
   "mimetype": "text/x-python",
   "name": "python",
   "nbconvert_exporter": "python",
   "pygments_lexer": "ipython3",
   "version": "3.6.7"
  }
 },
 "nbformat": 4,
 "nbformat_minor": 2
}
