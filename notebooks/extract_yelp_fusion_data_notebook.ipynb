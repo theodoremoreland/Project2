{
 "cells": [
  {
   "cell_type": "code",
   "execution_count": null,
   "metadata": {},
   "outputs": [],
   "source": [
    "# Native\n",
    "import os\n",
    "import json\n",
    "\n",
    "# Third party\n",
    "import requests\n",
    "import pandas as pd\n",
    "from sqlalchemy import create_engine\n",
    "from ratelimit import limits\n",
    "\n",
    "# Custom\n",
    "from config import yelp_api_key"
   ]
  },
  {
   "cell_type": "code",
   "execution_count": null,
   "metadata": {
    "scrolled": true
   },
   "outputs": [],
   "source": [
    "# Yelp Fusion API requires api keys to be passed through HTTP header value:\n",
    "headers = {\"Authorization\" : \"Bearer\" + \" \" + yelp_api_key}"
   ]
  },
  {
   "cell_type": "code",
   "execution_count": null,
   "metadata": {
    "scrolled": true
   },
   "outputs": [],
   "source": [
    "@limits(calls=5, period=1)\n",
    "def get_yelp_la_restaurants():\n",
    "    \"\"\"A function that makes an API call to retrieve information on restaurants in LA then appends said data to relevant dictionary\n",
    "    values. The \"@limits\" decorator ensures api calls don't exceed calls-per-second limit.\n",
    "    \"\"\"\n",
    "    LA_restaurants_dict = {\"id\": [],\n",
    "                  \"name\": [],\n",
    "                  \"overall_rating\": [],\n",
    "                  \"review_count\": [],\n",
    "                  \"address\": [],\n",
    "                  \"city\": [],\n",
    "                  \"state\": [],\n",
    "                  \"zip\": []}\n",
    "    \n",
    "    for i in range(0, 1000, 20):\n",
    "        try:\n",
    "            url = \"https://api.yelp.com/v3/businesses/search?term=restaurant&location=Los Angeles&limt=50&offset=\" + str(i)\n",
    "            restaurant_data = requests.get(url, headers=headers).json()\n",
    "            restaurants = restaurant_data[\"businesses\"]\n",
    "            for j in range(0, len(restaurants)):\n",
    "                LA_restaurants_dict[\"id\"].append(restaurants[j][\"id\"])\n",
    "                LA_restaurants_dict[\"name\"].append(restaurants[j][\"name\"])\n",
    "                LA_restaurants_dict[\"overall_rating\"].append(restaurants[j][\"rating\"])\n",
    "                LA_restaurants_dict[\"review_count\"].append(restaurants[j][\"review_count\"])\n",
    "                LA_restaurants_dict[\"address\"].append(restaurants[j][\"location\"][\"address1\"])\n",
    "                LA_restaurants_dict[\"city\"].append(restaurants[j][\"location\"][\"city\"])\n",
    "                LA_restaurants_dict[\"state\"].append(restaurants[j][\"location\"][\"state\"])\n",
    "                LA_restaurants_dict[\"zip\"].append(restaurants[j][\"location\"][\"zip_code\"])\n",
    "                print(str(restaurants[j][\"name\"]) + \" is now being stored.\")\n",
    "        except:\n",
    "            print(\"Invalid data. Skipping entry...\")\n",
    "            pass\n",
    "        \n",
    "    print(\"LA restaurant processing complete.\")\n",
    "    return LA_restaurants_dict"
   ]
  },
  {
   "cell_type": "code",
   "execution_count": null,
   "metadata": {},
   "outputs": [],
   "source": [
    "# Calls and logs API calls (LA restaurant data) to Yelp Fusion  \n",
    "LA_restaurants_dict = get_yelp_la_restaurants()"
   ]
  },
  {
   "cell_type": "code",
   "execution_count": null,
   "metadata": {
    "scrolled": true
   },
   "outputs": [],
   "source": [
    "# Creates and previews restaurant dataframe\n",
    "LA_restaurants_df = pd.DataFrame(LA_restaurants_dict)\n",
    "LA_restaurants_df.tail(25)"
   ]
  },
  {
   "cell_type": "code",
   "execution_count": null,
   "metadata": {
    "scrolled": true
   },
   "outputs": [],
   "source": [
    "@limits(calls=5, period=1)\n",
    "def get_yelp_reviews(LA_restaurants_dict):\n",
    "    \"\"\"A function that makes API calls to Yelp Fusion to retrieve review data for the businesses with business id's stored in the\n",
    "    \"restaurant_dict\" above then appends retrieved review data to \"restaurant_review_dict\".\n",
    "    \"\"\"\n",
    "    LA_restaurant_reviews_dict = {\"restaurant\": [],\n",
    "                          \"restaurant_id\": [],\n",
    "                         \"rating\": [],\n",
    "                         \"text\": [],\n",
    "                         \"time_created\": []}\n",
    "    \n",
    "    for i in range(0, len(LA_restaurants_dict[\"id\"])):\n",
    "        restaurant_id = LA_restaurants_dict[\"id\"][i]\n",
    "        try:\n",
    "            url = \"https://api.yelp.com/v3/businesses/\" + restaurant_id + \"/reviews\"\n",
    "            restaurant_review_data = requests.get(url, headers=headers).json()\n",
    "            reviews = restaurant_review_data[\"reviews\"]\n",
    "            for j in range(0, len(reviews)):\n",
    "                LA_restaurant_reviews_dict[\"restaurant\"].append(LA_restaurants_dict[\"name\"][i])\n",
    "                LA_restaurant_reviews_dict[\"restaurant_id\"].append(LA_restaurants_dict[\"id\"][i])\n",
    "                LA_restaurant_reviews_dict[\"rating\"].append(reviews[j][\"rating\"])\n",
    "                LA_restaurant_reviews_dict[\"text\"].append(reviews[j][\"text\"])\n",
    "                LA_restaurant_reviews_dict[\"time_created\"].append(reviews[j][\"time_created\"])\n",
    "            print(\"Top 3 reviews for \" + str(LA_restaurants_dict[\"name\"][i]) + \" completed.\")\n",
    "            print(\"---------------------------------------------------------------------\")\n",
    "        except:\n",
    "            print(\"Business ID is invalid. Skipping invalid business data...\")\n",
    "            pass\n",
    "\n",
    "    print(\"Yelp Reviews API process completed.\")\n",
    "    return LA_restaurant_reviews_dict"
   ]
  },
  {
   "cell_type": "code",
   "execution_count": null,
   "metadata": {},
   "outputs": [],
   "source": [
    "LA_restaurant_reviews_dict = get_yelp_reviews(LA_restaurants_dict)"
   ]
  },
  {
   "cell_type": "code",
   "execution_count": null,
   "metadata": {
    "scrolled": true
   },
   "outputs": [],
   "source": [
    "LA_restaurant_reviews_df = pd.DataFrame(LA_restaurant_reviews_dict)\n",
    "LA_restaurant_reviews_df.tail(25)"
   ]
  },
  {
   "cell_type": "code",
   "execution_count": null,
   "metadata": {
    "scrolled": true
   },
   "outputs": [],
   "source": [
    "LA_restaurants_df_copy = LA_restaurants_df.copy().drop_duplicates(keep=\"first\")\n",
    "LA_restaurant_reviews_df_copy = LA_restaurant_reviews_df.copy().drop_duplicates(keep=\"first\")"
   ]
  },
  {
   "cell_type": "code",
   "execution_count": null,
   "metadata": {},
   "outputs": [],
   "source": [
    "LA_restaurants_df_copy.to_csv(\"yelp_LA_restaurants.csv\", header=True)\n",
    "LA_restaurant_reviews_df_copy.to_csv(\"yelp_LA_reviews.csv\", header=True)"
   ]
  }
 ],
 "metadata": {
  "kernelspec": {
   "display_name": "Python 3",
   "language": "python",
   "name": "python3"
  },
  "language_info": {
   "codemirror_mode": {
    "name": "ipython",
    "version": 3
   },
   "file_extension": ".py",
   "mimetype": "text/x-python",
   "name": "python",
   "nbconvert_exporter": "python",
   "pygments_lexer": "ipython3",
   "version": "3.8.5"
  }
 },
 "nbformat": 4,
 "nbformat_minor": 2
}
